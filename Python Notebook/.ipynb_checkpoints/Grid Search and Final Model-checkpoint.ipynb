{
 "cells": [
  {
   "cell_type": "markdown",
   "id": "056e715d",
   "metadata": {},
   "source": [
    "## Grid Search and Model Evaluation <a class=\"anchor\" id=\"grid-search\"></a> "
   ]
  },
  {
   "cell_type": "code",
   "execution_count": 3,
   "id": "61f9007b-4479-4bf6-be37-eac8c43cda84",
   "metadata": {
    "tags": []
   },
   "outputs": [],
   "source": [
    "import pickle\n",
    "import pandas as pd\n",
    "import numpy as np\n",
    "\n",
    "import sys\n",
    "sys.path.append('./ml_housing_lib')\n",
    "from sklearn.preprocessing import StandardScaler, MinMaxScaler, RobustScaler, OneHotEncoder\n",
    "from sklearn.linear_model import LinearRegression, Lasso, ElasticNet\n",
    "from sklearn.model_selection import GridSearchCV, train_test_split\n",
    "from sklearn.compose import ColumnTransformer\n",
    "from sklearn.pipeline import Pipeline\n",
    "\n",
    "from basic_data_prep import prep_data_fin\n",
    "from pipeline import KMeansTransformer"
   ]
  },
  {
   "cell_type": "code",
   "execution_count": 6,
   "id": "ff8cf73c-7545-4b1f-9e37-d9c742975029",
   "metadata": {
    "tags": []
   },
   "outputs": [],
   "source": [
    "# Setup GridSearch\n",
    "\n",
    "# Designation of categorical and numerical features (see Feature Engineering Notebook)\n",
    "cat_features = ['geo_cluster', 'yr_built_bin', 'yr_renovated_bin', 'grade', 'bedrooms','view', 'floors', 'month']\n",
    "num_features = [ 'condition', 'bathrooms', 'sqft_above', 'sqft_basement','sqft_living','sqft_lot']\n",
    "\n",
    "# Setup transformers\n",
    "cat_transformer = ('cat', OneHotEncoder(handle_unknown='ignore'), cat_features)\n",
    "num_transformer = ('num', RobustScaler(), num_features)\n",
    "           \n",
    "# Create a preprocessor\n",
    "preprocessor = ColumnTransformer(transformers= [cat_transformer, \n",
    "                                                num_transformer], \n",
    "                                 remainder='passthrough')\n",
    "\n",
    "# Setup pipeline\n",
    "pipeline = Pipeline(steps=[('kmeans', KMeansTransformer(n_clusters=500)),\n",
    "                           ('preprocessor', preprocessor),\n",
    "                           ('model', Lasso())]\n",
    "                   )\n",
    "\n",
    "# Gridsearch params\n",
    "param_grid = [\n",
    "     # {'preprocessor__num': [None, StandardScaler(), MinMaxScaler(), RobustScaler()],\n",
    "     #  'model': [LinearRegression()]},\n",
    "    {\n",
    "     # 'preprocessor__num': [RobustScaler(),],\n",
    "     # 'model': [Lasso()],\n",
    "    'model__alpha': [0.1, 1, 3, 5]\n",
    "    },\n",
    "     # {\n",
    "     # 'preprocessor__num': [None, StandardScaler(), MinMaxScaler(), RobustScaler()],\n",
    "     # 'model': [ElasticNet()],\n",
    "     # 'model__alpha': [0.01, 0.1, 1, 2, 5, 10],\n",
    "     # 'model__l1_ratio': [0.1, 0.5, 0.9]\n",
    "     # },\n",
    "]\n",
    "\n",
    "# Set up grid search \n",
    "grid_search = GridSearchCV(pipeline, param_grid, scoring='r2', cv=5)\n",
    "\n",
    "# Fit model\n",
    "df = prep_data_fin()\n",
    "\n",
    "X = df.drop('price', axis = 1)\n",
    "y = df['price']\n",
    "\n",
    "X_train, X_test, y_train, y_test = train_test_split(X, y, test_size=0.3, random_state=42)"
   ]
  },
  {
   "cell_type": "code",
   "execution_count": null,
   "id": "e3924b2d-3bb6-4c9e-8a55-29a0c75caec9",
   "metadata": {},
   "outputs": [],
   "source": [
    "%% time\n",
    "\n",
    "# Run grid search\n",
    "grid_search.fit(X_train, y_train)\n",
    "\n",
    "# Get best model, params, score\n",
    "best_model = grid_search.best_estimator_\n",
    "best_params = grid_search.best_params_\n",
    "best_score = grid_search.best_score_\n",
    "\n",
    "print(f\"Best params: {best_params}\\nBest score: {best_score}\\nBest model: {best_model}\")"
   ]
  },
  {
   "cell_type": "markdown",
   "id": "f5052fb3-0ddf-4a46-bcb3-87f741e82516",
   "metadata": {},
   "source": [
    "Best params: {'model__alpha': 5}\n",
    "Best score: 0.8488353472366441\n",
    "Best model: Pipeline(steps=[('kmeans', KMeansTransformer(n_clusters=500)),\n",
    "                ('preprocessor',\n",
    "                 ColumnTransformer(remainder='passthrough',\n",
    "                                   transformers=[('cat',\n",
    "                                                  OneHotEncoder(handle_unknown='ignore'),\n",
    "                                                  ['geo_cluster',\n",
    "                                                   'yr_built_bin',\n",
    "                                                   'yr_renovated_bin', 'grade',\n",
    "                                                   'bedrooms', 'view', 'floors',\n",
    "                                                   'month']),\n",
    "                                                 ('num', RobustScaler(),\n",
    "                                                  ['condition', 'bathrooms',\n",
    "                                                   'sqft_above',\n",
    "                                                   'sqft_basement',\n",
    "                                                   'sqft_living',\n",
    "                                                   'sqft_lot'])])),\n",
    "                ('model', Lasso(alpha=5))])"
   ]
  },
  {
   "cell_type": "code",
   "execution_count": 22,
   "id": "a8e85c7b-3233-4420-9dd6-212ed240cafa",
   "metadata": {
    "tags": []
   },
   "outputs": [],
   "source": [
    "# Save model\n",
    "with open('best_linear_model.pkl', 'wb') as f:\n",
    "    pickle.dump(best_model, f)"
   ]
  },
  {
   "cell_type": "markdown",
   "id": "1d71f6ee",
   "metadata": {},
   "source": [
    "#### Notes:\n",
    "- Gridsearch results:\n",
    "    - Best params: {'model': Lasso(alpha=5), 'preprocessor__num': RobustScaler()}\n",
    "    - Best R2 score: 0.849"
   ]
  },
  {
   "cell_type": "code",
   "execution_count": 4,
   "id": "2c16b85c-42b0-47c7-8fae-b7d54b50707d",
   "metadata": {
    "tags": []
   },
   "outputs": [],
   "source": [
    "# Load model\n",
    "with open('best_linear_model.pkl', 'rb') as f:\n",
    "    loaded_model = pickle.load(f)"
   ]
  },
  {
   "cell_type": "code",
   "execution_count": 7,
   "id": "83d5d8ed-51fb-4bb0-84b2-80f9e1a5e648",
   "metadata": {
    "tags": []
   },
   "outputs": [
    {
     "data": {
      "text/plain": [
       "{'mae': 71126.09, 'rmse': 113431.285, 'rsquare': 0.849, 'adj_rsquare': 0.849}"
      ]
     },
     "execution_count": 7,
     "metadata": {},
     "output_type": "execute_result"
    }
   ],
   "source": [
    "y_pred = loaded_model.predict(X_test)\n",
    "\n",
    "from model_evaluation import calc_scores\n",
    "calc_scores(y_test, y_pred, X_test)"
   ]
  },
  {
   "cell_type": "markdown",
   "id": "821e6e7d",
   "metadata": {},
   "source": [
    "## Best Model <a class=\"anchor\" id=\"best-model\"></a>\n",
    "\n",
    "- Via conducting multiple Grid Searches, the following model and model (hyper)parameters turned out to be the best in terms of Linear Model performance:  \n",
    "    - Lasso (alpha 5)\n",
    "    - RobustScaler\n",
    "    - Kmeans with 500 Clusters\n",
    "    - cat_features = ['geo_cluster', 'yr_built_bin', 'yr_renovated_bin', 'grade', 'bedrooms','view', 'floors', 'month', 'waterfront']\n",
    "    - num_features = [ 'condition', 'bathrooms', 'sqft_above', 'sqft_basement','sqft_living','sqft_lot']\n",
    "    - Score on test set:  {'mae': 71126.09, 'rmse': 113431.285, 'rsquare': 0.849, 'adj_rsquare': 0.849}"
   ]
  },
  {
   "cell_type": "code",
   "execution_count": null,
   "id": "2fa9d529",
   "metadata": {},
   "outputs": [],
   "source": []
  }
 ],
 "metadata": {
  "kernelspec": {
   "display_name": "Python 3 (ipykernel)",
   "language": "python",
   "name": "python3"
  },
  "language_info": {
   "codemirror_mode": {
    "name": "ipython",
    "version": 3
   },
   "file_extension": ".py",
   "mimetype": "text/x-python",
   "name": "python",
   "nbconvert_exporter": "python",
   "pygments_lexer": "ipython3",
   "version": "3.8.17"
  }
 },
 "nbformat": 4,
 "nbformat_minor": 5
}
